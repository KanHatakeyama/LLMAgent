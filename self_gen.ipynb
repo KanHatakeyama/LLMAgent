{
 "cells": [
  {
   "cell_type": "code",
   "execution_count": 1,
   "metadata": {},
   "outputs": [
    {
     "name": "stderr",
     "output_type": "stream",
     "text": [
      "/home/setup/miniconda3/envs/llmeval/lib/python3.11/site-packages/tqdm/auto.py:21: TqdmWarning: IProgress not found. Please update jupyter and ipywidgets. See https://ipywidgets.readthedocs.io/en/stable/user_install.html\n",
      "  from .autonotebook import tqdm as notebook_tqdm\n",
      "2024-07-20 15:25:25,491\tINFO util.py:154 -- Missing packages: ['ipywidgets']. Run `pip install -U ipywidgets`, then restart the notebook server for rich notebook output.\n"
     ]
    }
   ],
   "source": [
    "\n",
    "# from src.VLLMServer import launch_command,get_client_dict,ask_llm,ask_llm_prompt\n",
    "from tqdm import tqdm\n",
    "from datasets import load_dataset\n",
    "from src.code_utils import extract_code_block\n",
    "from src.process_openmath_ja import parse_record, eval_answer\n",
    "from vllm import SamplingParams, LLM\n",
    "import json\n",
    "import os\n",
    "\n",
    "\n",
    "os.environ[\"CUDA_VISIBLE_DEVICES\"]=\"1\"\n",
    "# %%\n",
    "out_path = \"processed/data_test.jsonl\"\n",
    "\n",
    "# %%"
   ]
  },
  {
   "cell_type": "code",
   "execution_count": 2,
   "metadata": {},
   "outputs": [
    {
     "name": "stdout",
     "output_type": "stream",
     "text": [
      "INFO 07-20 15:25:44 llm_engine.py:100] Initializing an LLM engine (v0.4.2) with config: model='cyberagent/calm3-22b-chat', speculative_config=None, tokenizer='cyberagent/calm3-22b-chat', skip_tokenizer_init=False, tokenizer_mode=auto, revision=None, tokenizer_revision=None, trust_remote_code=True, dtype=torch.bfloat16, max_seq_len=8000, download_dir=None, load_format=LoadFormat.AUTO, tensor_parallel_size=1, disable_custom_all_reduce=False, quantization=None, enforce_eager=False, kv_cache_dtype=auto, quantization_param_path=None, device_config=cuda, decoding_config=DecodingConfig(guided_decoding_backend='outlines'), seed=0, served_model_name=cyberagent/calm3-22b-chat)\n"
     ]
    },
    {
     "name": "stderr",
     "output_type": "stream",
     "text": [
      "/home/setup/miniconda3/envs/llmeval/lib/python3.11/site-packages/huggingface_hub/file_download.py:1132: FutureWarning: `resume_download` is deprecated and will be removed in version 1.0.0. Downloads always resume when possible. If you want to force a new download, use `force_download=True`.\n",
      "  warnings.warn(\n",
      "Special tokens have been added in the vocabulary, make sure the associated word embeddings are fine-tuned or trained.\n"
     ]
    },
    {
     "name": "stdout",
     "output_type": "stream",
     "text": [
      "INFO 07-20 15:25:44 utils.py:660] Found nccl from library /home/setup/.config/vllm/nccl/cu12/libnccl.so.2.18.1\n",
      "INFO 07-20 15:25:45 selector.py:27] Using FlashAttention-2 backend.\n",
      "INFO 07-20 15:25:46 weight_utils.py:199] Using model weights format ['*.safetensors']\n"
     ]
    }
   ],
   "source": [
    "\n",
    "\n",
    "# load dataset\n",
    "ds = load_dataset(\"kunishou/OpenMathInstruct-1-1.8m-ja\",\n",
    "                  split=\"train\", streaming=False)\n",
    "\n",
    "ds = ds.shuffle()\n",
    "\n",
    "# %%\n",
    "model_name = \"microsoft/Phi-3-medium-128k-instruct\"\n",
    "model_name=\"cyberagent/calm3-22b-chat\"\n",
    "\n",
    "llm = LLM(model=model_name, trust_remote_code=True,\n",
    "          max_model_len=8000\n",
    "          )"
   ]
  },
  {
   "cell_type": "code",
   "execution_count": null,
   "metadata": {},
   "outputs": [],
   "source": [
    "\n",
    "\n",
    "# %%\n",
    "pre_command = \"\"\"次の問題を解きなさい｡出力事項は以下のとおりである｡\n",
    "#解説: 問題を解くための基本的な考え方を日本語で出力する｡\n",
    "#Python: 計算プログラム｡以下の例を参考に､出力形式を守ること｡\n",
    "```\n",
    "#a+bの計算を行う\n",
    "a=1\n",
    "b=2\n",
    "print(a+b)\n",
    "```\n",
    "#問題\n",
    "\"\"\"\n",
    "\n",
    "# %%\n",
    "batch_size = 30\n",
    "idx = 0\n",
    "\n",
    "\n",
    "for j in tqdm(range(int(len(ds)/batch_size))):\n",
    "\n",
    "    prompts = []\n",
    "    answer_list = []\n",
    "    question_list = []\n",
    "    idx_list = []\n",
    "\n",
    "    for i in range(batch_size):\n",
    "        record = ds[idx]\n",
    "        idx += 1\n",
    "        # 問題文と回答の取得\n",
    "        question, answer = parse_record(record)\n",
    "        answer_list.append(answer)\n",
    "        question_list.append(question)\n",
    "        problem_id = record[\"index\"]\n",
    "        idx_list.append(idx)\n",
    "\n",
    "        # promptの生成\n",
    "        ja_text = pre_command+question\n",
    "        prompt = f\"\"\"<|user|>\n",
    "{ja_text}<|end|>\n",
    "<|assistant|>\"\"\"\n",
    "        prompts.append(prompt)\n",
    "\n",
    "    # 回答の生成\n",
    "    outputs = llm.generate(\n",
    "        prompts,\n",
    "        sampling_params=SamplingParams(\n",
    "            temperature=0.1,\n",
    "            max_tokens=1024,\n",
    "            repetition_penalty=1.1,\n",
    "        )\n",
    "    )\n",
    "\n",
    "    # 回答のチェック\n",
    "    for i in range(len(outputs)):\n",
    "        res = outputs[i].outputs[0].text.strip()\n",
    "        res = res.replace(\"\\'\", \"`\")\n",
    "\n",
    "        # 生成されたコードを実際にまわして評価する\n",
    "        explanation_block = res[:res.find(\"```\")]\n",
    "        try:\n",
    "            code_block = extract_code_block(res)\n",
    "        except:\n",
    "            continue\n",
    "\n",
    "        answer = answer_list[i]\n",
    "        question = question_list[i]\n",
    "        # 真偽判定\n",
    "        is_correct_answer = eval_answer(code_block, answer, verbose=False)\n",
    "\n",
    "        generated_prompt = explanation_block+\"\\n\"+code_block\n",
    "        if is_correct_answer:\n",
    "            new_record = {\n",
    "                \"id\": idx_list[i],\n",
    "                \"question\": question,\n",
    "                \"prediction\": generated_prompt,\n",
    "                \"answer\": answer,\n",
    "\n",
    "            }\n",
    "            with open(out_path, \"a\") as f:\n",
    "                f.write(json.dumps(new_record, ensure_ascii=False)+\"\\n\")\n",
    "\n",
    "# %%"
   ]
  }
 ],
 "metadata": {
  "kernelspec": {
   "display_name": "llmeval",
   "language": "python",
   "name": "python3"
  },
  "language_info": {
   "codemirror_mode": {
    "name": "ipython",
    "version": 3
   },
   "file_extension": ".py",
   "mimetype": "text/x-python",
   "name": "python",
   "nbconvert_exporter": "python",
   "pygments_lexer": "ipython3",
   "version": "3.11.8"
  }
 },
 "nbformat": 4,
 "nbformat_minor": 2
}
