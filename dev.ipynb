{
 "cells": [
  {
   "cell_type": "code",
   "execution_count": 57,
   "metadata": {},
   "outputs": [
    {
     "name": "stdout",
     "output_type": "stream",
     "text": [
      "The autoreload extension is already loaded. To reload it, use:\n",
      "  %reload_ext autoreload\n"
     ]
    }
   ],
   "source": [
    "%load_ext autoreload\n",
    "%autoreload 2\n",
    "from src.VLLMServer import launch_command,get_client_dict,ask_llm,ask_llm_prompt\n",
    "from src.code_utils import extract_code_block\n",
    "from src.process_openmath_ja import parse_record,eval_answer\n",
    "import yaml"
   ]
  },
  {
   "cell_type": "code",
   "execution_count": 25,
   "metadata": {},
   "outputs": [
    {
     "name": "stdout",
     "output_type": "stream",
     "text": [
      "vllmサーバーの実行コマンド\n",
      "export CUDA_VISIBLE_DEVICES=1\n",
      "python -m vllm.entrypoints.openai.api_server --model microsoft/Phi-3-medium-128k-instruct --max-model-len 4000 --port 8001 --gpu-memory-utilization 0.4 \n",
      "\n",
      "\n"
     ]
    }
   ],
   "source": [
    "conf_path=\"config.yaml\"\n",
    "\n",
    "with open(conf_path,\"r\") as f:\n",
    "    conf=yaml.safe_load(f.read())\n",
    "client_dict=get_client_dict(conf)\n",
    "\n",
    "print(\"vllmサーバーの実行コマンド\")\n",
    "print(launch_command(conf))\n",
    "\n",
    "#client_dict"
   ]
  },
  {
   "cell_type": "code",
   "execution_count": 68,
   "metadata": {},
   "outputs": [],
   "source": [
    "model_name=\"microsoft/Phi-3-medium-128k-instruct\"\n",
    "pre_command=\"\"\"次の問題を解きなさい｡出力事項は以下のとおりである｡\n",
    "#解説: 問題を解くための基本的な考え方を日本語で出力する｡\n",
    "#Python: 計算プログラム｡以下の例を参考に､出力形式を守ること｡\n",
    "```\n",
    "#a+bの計算を行う\n",
    "a=1\n",
    "b=2\n",
    "print(a+b)\n",
    "```\n",
    "#問題\n",
    "\"\"\""
   ]
  },
  {
   "cell_type": "code",
   "execution_count": 65,
   "metadata": {},
   "outputs": [],
   "source": [
    "#load dataset\n",
    "from datasets import load_dataset\n",
    "ds=load_dataset(\"kunishou/OpenMathInstruct-1-1.8m-ja\",split=\"train\",streaming=False)"
   ]
  },
  {
   "cell_type": "code",
   "execution_count": 67,
   "metadata": {},
   "outputs": [],
   "source": [
    "ds=ds.shuffle()"
   ]
  },
  {
   "cell_type": "code",
   "execution_count": 94,
   "metadata": {},
   "outputs": [],
   "source": [
    "\n",
    "record=ds[0]\n",
    "\n",
    "#問題文と回答の取得\n",
    "question,answer=parse_record(record)\n",
    "\n",
    "#promptの生成\n",
    "prompt=pre_command+question\n",
    "res=ask_llm_prompt(client_dict,model_name,prompt)\n",
    "\n",
    "#生成されたコードを実際にまわして評価する\n",
    "explanation_block=res[:res.find(\"```\")]\n",
    "code_block=extract_code_block(res)\n",
    "\n",
    "#真偽判定\n",
    "is_correct_answer=eval_answer(code_block,answer,verbose=False)\n",
    "\n",
    "generated_prompt=explanation_block+\"\\n\"+code_block\n",
    "if is_correct_answer:\n",
    "    record[\"answer\"]=generated_prompt"
   ]
  },
  {
   "cell_type": "code",
   "execution_count": 95,
   "metadata": {},
   "outputs": [
    {
     "data": {
      "text/plain": [
       "{'index': 1145238,\n",
       " 'dataset': 'math',\n",
       " 'question': 'In a rectangular coordinate system, what is the number of units in the distance from the origin to the point $(-15, 8)$?',\n",
       " 'generated_solution': \"The distance between two points $(x_1,y_1)$ and $(x_2,y_2)$ in the Cartesian plane is given by \\\\\\\\[d=\\\\\\\\sqrt{(x_2-x_1)^2+(y_2-y_1)^2}.\\\\\\\\]\\nLet's evaluate this using sympy for our two points:\\n<llm-code>\\nfrom sympy import sqrt\\n\\n# two points\\npoints = [(-15, 8), (0, 0)]\\n\\n# compute distances\\ndistance = [sqrt(abs(points[0][0] - p[0])**2 + abs(points[0][1] - p[1])**2) for p in points[1:]]\\n\\nprint(distance)\\n</llm-code>\\n<llm-code-output>\\n[17]\\n</llm-code-output>\\nThe distance is $\\\\\\\\boxed{17}$ units.\",\n",
       " 'question_ja': '直交座標系において、原点から点 $(-15, 8)$ までの距離は何単位か。',\n",
       " 'generated_solution_ja': '2つのポイント間の距離$（x_1、y_1）$ $および$（x_2、y_2）$ $ $は、\\\\\\\\ [d = \\\\\\\\ sqrt {（x_2-x_1）^2+（y_2-y_1）^2}によって与えられます。。\\\\\\\\]\\n2つのポイントにSympyを使用してこれを評価しましょう。<llm-code>\\nfrom sympy import sqrt\\n\\n# two points\\npoints = [(-15, 8), (0, 0)]\\n\\n# compute distances\\ndistance = [sqrt(abs(points[0][0] - p[0])**2 + abs(points[0][1] - p[1])**2) for p in points[1:]]\\n\\nprint(distance)\\n</llm-code><llm-code-output>\\n[17]\\n</llm-code-output>\\n距離は$ \\\\\\\\ Boxed {17} $ユニットです。',\n",
       " 'answer': '#解説：\\nこの問題を解くためには、直角三角形の斜辺の長さ、または距離を求めることになります。これを実現するには、ピタゴラスの定理が用いられます。ピタゴラスの定理は、直角三角形の直角側の長さの二乗の和が斜辺の二乗に等しいというものです。原点から点$(-15, 8)$までの距離は、ピタゴラスの定理を用いて求めることができる。\\n\\n#直角三角形の一辺の長さをそれぞれaとbとし、斜辺の長さをcとする\\n#aはx座標の絶対値(15)、bはy座標の絶対値(8)である\\n#結果を出力する\\n\\na = 15\\nb = 8\\nc = (a**2 + b**2) ** 0.5\\nprint(c)'}"
      ]
     },
     "execution_count": 95,
     "metadata": {},
     "output_type": "execute_result"
    }
   ],
   "source": [
    "record"
   ]
  },
  {
   "cell_type": "code",
   "execution_count": 56,
   "metadata": {},
   "outputs": [
    {
     "data": {
      "text/plain": [
       "'29.0\\n'"
      ]
     },
     "execution_count": 56,
     "metadata": {},
     "output_type": "execute_result"
    }
   ],
   "source": []
  },
  {
   "cell_type": "code",
   "execution_count": null,
   "metadata": {},
   "outputs": [],
   "source": []
  }
 ],
 "metadata": {
  "kernelspec": {
   "display_name": "llmeval",
   "language": "python",
   "name": "python3"
  },
  "language_info": {
   "codemirror_mode": {
    "name": "ipython",
    "version": 3
   },
   "file_extension": ".py",
   "mimetype": "text/x-python",
   "name": "python",
   "nbconvert_exporter": "python",
   "pygments_lexer": "ipython3",
   "version": "3.11.8"
  }
 },
 "nbformat": 4,
 "nbformat_minor": 2
}
