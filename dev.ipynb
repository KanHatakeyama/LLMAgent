{
 "cells": [
  {
   "cell_type": "code",
   "execution_count": 57,
   "metadata": {},
   "outputs": [
    {
     "name": "stdout",
     "output_type": "stream",
     "text": [
      "The autoreload extension is already loaded. To reload it, use:\n",
      "  %reload_ext autoreload\n"
     ]
    }
   ],
   "source": [
    "%load_ext autoreload\n",
    "%autoreload 2\n",
    "from src.VLLMServer import launch_command,get_client_dict,ask_llm,ask_llm_prompt\n",
    "from src.code_utils import extract_code_block\n",
    "from src.process_openmath_ja import parse_record,eval_answer\n",
    "import yaml"
   ]
  },
  {
   "cell_type": "code",
   "execution_count": 25,
   "metadata": {},
   "outputs": [
    {
     "name": "stdout",
     "output_type": "stream",
     "text": [
      "vllmサーバーの実行コマンド\n",
      "export CUDA_VISIBLE_DEVICES=1\n",
      "python -m vllm.entrypoints.openai.api_server --model microsoft/Phi-3-medium-128k-instruct --max-model-len 4000 --port 8001 --gpu-memory-utilization 0.4 \n",
      "\n",
      "\n"
     ]
    }
   ],
   "source": [
    "conf_path=\"config.yaml\"\n",
    "\n",
    "with open(conf_path,\"r\") as f:\n",
    "    conf=yaml.safe_load(f.read())\n",
    "client_dict=get_client_dict(conf)\n",
    "\n",
    "print(\"vllmサーバーの実行コマンド\")\n",
    "print(launch_command(conf))\n",
    "\n",
    "#client_dict"
   ]
  },
  {
   "cell_type": "code",
   "execution_count": 68,
   "metadata": {},
   "outputs": [],
   "source": [
    "model_name=\"microsoft/Phi-3-medium-128k-instruct\"\n",
    "pre_command=\"\"\"次の問題を解きなさい｡出力事項は以下のとおりである｡\n",
    "#解説: 問題を解くための基本的な考え方を日本語で出力する｡\n",
    "#Python: 計算プログラム｡以下の例を参考に､出力形式を守ること｡\n",
    "```\n",
    "#a+bの計算を行う\n",
    "a=1\n",
    "b=2\n",
    "print(a+b)\n",
    "```\n",
    "#問題\n",
    "\"\"\""
   ]
  },
  {
   "cell_type": "code",
   "execution_count": 65,
   "metadata": {},
   "outputs": [],
   "source": [
    "#load dataset\n",
    "from datasets import load_dataset\n",
    "ds=load_dataset(\"kunishou/OpenMathInstruct-1-1.8m-ja\",split=\"train\",streaming=False)"
   ]
  },
  {
   "cell_type": "code",
   "execution_count": 67,
   "metadata": {},
   "outputs": [],
   "source": [
    "ds=ds.shuffle()"
   ]
  },
  {
   "cell_type": "code",
   "execution_count": 90,
   "metadata": {},
   "outputs": [],
   "source": [
    "\n",
    "record=ds[0]\n",
    "\n",
    "#問題文と回答の取得\n",
    "question,answer=parse_record(record)\n",
    "\n",
    "#promptの生成\n",
    "prompt=pre_command+question\n",
    "res=ask_llm_prompt(client_dict,model_name,prompt)"
   ]
  },
  {
   "cell_type": "code",
   "execution_count": 91,
   "metadata": {},
   "outputs": [
    {
     "name": "stdout",
     "output_type": "stream",
     "text": [
      "#解説:\n",
      "直交座標系における2点間の距離を求めるには、距離公式による計算が用いられます。距離公式は以下の通りです。\n",
      "\n",
      "$$d = \\sqrt{(x2 - x1)^2 + (y2 - y1)^2}$$\n",
      "\n",
      "原点 (0, 0) から点 (-15, 8) までの距離を求めます。\n",
      "\n",
      "#Python:\n",
      "\n",
      "import math\n",
      "\n",
      "# 座標系の原点\n",
      "x1, y1 = 0, 0\n",
      "\n",
      "# 指定された点\n",
      "x2, y2 = -15, 8\n",
      "\n",
      "# 距離計算\n",
      "distance = math.sqrt((x2 - x1)**2 + (y2 - y1)**2)\n",
      "\n",
      "# 距離を出力\n",
      "print(distance)\n"
     ]
    }
   ],
   "source": [
    "#生成されたコードの評価\n",
    "explanation_block=res[:res.find(\"```\")]\n",
    "code_block=extract_code_block(res)\n",
    "\n",
    "#真偽判定\n",
    "is_correct_answer=eval_answer(code_block,answer,verbose=False)\n",
    "\n",
    "generated_prompt=explanation_block+\"\\n\"+code_block\n",
    "if is_correct_answer:\n",
    "    print(generated_prompt)\n",
    "\n",
    "#print(explanation_block)\n",
    "#print(code_block)"
   ]
  },
  {
   "cell_type": "code",
   "execution_count": 83,
   "metadata": {},
   "outputs": [
    {
     "data": {
      "text/plain": [
       "'#原点から点(-15,8)までの距離を求める\\na = -15  #水平方向の距離(原点から左に15単位移動)\\nb = 8    #垂直方向の距離(原点から上に8単位移動)\\n\\n#ピタゴラスの定理を用いて距離を求める\\ndistance = (a**2 + b**2) ** 0.5\\nprint(distance)'"
      ]
     },
     "execution_count": 83,
     "metadata": {},
     "output_type": "execute_result"
    }
   ],
   "source": [
    "code_block"
   ]
  },
  {
   "cell_type": "code",
   "execution_count": 56,
   "metadata": {},
   "outputs": [
    {
     "data": {
      "text/plain": [
       "'29.0\\n'"
      ]
     },
     "execution_count": 56,
     "metadata": {},
     "output_type": "execute_result"
    }
   ],
   "source": []
  },
  {
   "cell_type": "code",
   "execution_count": null,
   "metadata": {},
   "outputs": [],
   "source": []
  }
 ],
 "metadata": {
  "kernelspec": {
   "display_name": "llmeval",
   "language": "python",
   "name": "python3"
  },
  "language_info": {
   "codemirror_mode": {
    "name": "ipython",
    "version": 3
   },
   "file_extension": ".py",
   "mimetype": "text/x-python",
   "name": "python",
   "nbconvert_exporter": "python",
   "pygments_lexer": "ipython3",
   "version": "3.11.8"
  }
 },
 "nbformat": 4,
 "nbformat_minor": 2
}
