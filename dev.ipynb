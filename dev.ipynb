{
 "cells": [
  {
   "cell_type": "code",
   "execution_count": 57,
   "metadata": {},
   "outputs": [
    {
     "name": "stdout",
     "output_type": "stream",
     "text": [
      "The autoreload extension is already loaded. To reload it, use:\n",
      "  %reload_ext autoreload\n"
     ]
    }
   ],
   "source": [
    "%load_ext autoreload\n",
    "%autoreload 2\n",
    "from src.VLLMServer import launch_command,get_client_dict,ask_llm,ask_llm_prompt\n",
    "from src.code_utils import extract_code_block\n",
    "from src.process_openmath_ja import parse_record,eval_answer\n",
    "import yaml"
   ]
  },
  {
   "cell_type": "code",
   "execution_count": 25,
   "metadata": {},
   "outputs": [
    {
     "name": "stdout",
     "output_type": "stream",
     "text": [
      "vllmサーバーの実行コマンド\n",
      "export CUDA_VISIBLE_DEVICES=1\n",
      "python -m vllm.entrypoints.openai.api_server --model microsoft/Phi-3-medium-128k-instruct --max-model-len 4000 --port 8001 --gpu-memory-utilization 0.4 \n",
      "\n",
      "\n"
     ]
    }
   ],
   "source": [
    "conf_path=\"config.yaml\"\n",
    "\n",
    "with open(conf_path,\"r\") as f:\n",
    "    conf=yaml.safe_load(f.read())\n",
    "client_dict=get_client_dict(conf)\n",
    "\n",
    "print(\"vllmサーバーの実行コマンド\")\n",
    "print(launch_command(conf))\n",
    "\n",
    "#client_dict"
   ]
  },
  {
   "cell_type": "code",
   "execution_count": 68,
   "metadata": {},
   "outputs": [],
   "source": [
    "model_name=\"microsoft/Phi-3-medium-128k-instruct\"\n",
    "pre_command=\"\"\"次の問題を解きなさい｡出力事項は以下のとおりである｡\n",
    "#解説: 問題を解くための基本的な考え方を日本語で出力する｡\n",
    "#Python: 計算プログラム｡以下の例を参考に､出力形式を守ること｡\n",
    "```\n",
    "#a+bの計算を行う\n",
    "a=1\n",
    "b=2\n",
    "print(a+b)\n",
    "```\n",
    "#問題\n",
    "\"\"\""
   ]
  },
  {
   "cell_type": "code",
   "execution_count": 65,
   "metadata": {},
   "outputs": [],
   "source": [
    "#load dataset\n",
    "from datasets import load_dataset\n",
    "ds=load_dataset(\"kunishou/OpenMathInstruct-1-1.8m-ja\",split=\"train\",streaming=False)"
   ]
  },
  {
   "cell_type": "code",
   "execution_count": 105,
   "metadata": {},
   "outputs": [],
   "source": [
    "ds=ds.shuffle()"
   ]
  },
  {
   "cell_type": "code",
   "execution_count": 106,
   "metadata": {},
   "outputs": [
    {
     "data": {
      "text/plain": [
       "1825008"
      ]
     },
     "execution_count": 106,
     "metadata": {},
     "output_type": "execute_result"
    }
   ],
   "source": [
    "len(ds)"
   ]
  },
  {
   "cell_type": "code",
   "execution_count": 103,
   "metadata": {},
   "outputs": [],
   "source": [
    "\n",
    "record=ds[0]\n",
    "\n",
    "#問題文と回答の取得\n",
    "question,answer=parse_record(record)\n",
    "\n",
    "#promptの生成\n",
    "prompt=pre_command+question\n",
    "res=ask_llm_prompt(client_dict,model_name,prompt)\n",
    "\n",
    "#生成されたコードを実際にまわして評価する\n",
    "explanation_block=res[:res.find(\"```\")]\n",
    "code_block=extract_code_block(res)\n",
    "\n",
    "#真偽判定\n",
    "is_correct_answer=eval_answer(code_block,answer,verbose=False)\n",
    "\n",
    "generated_prompt=explanation_block+\"\\n\"+code_block\n",
    "if is_correct_answer:\n",
    "    record[\"answer\"]=generated_prompt"
   ]
  },
  {
   "cell_type": "code",
   "execution_count": 104,
   "metadata": {},
   "outputs": [
    {
     "data": {
      "text/plain": [
       "{'index': 72867,\n",
       " 'dataset': 'math',\n",
       " 'question': 'One piece of string is 1.5 inches long and another piece of string is 4.5 inches long. What is the average length, in inches, of these two pieces of string?',\n",
       " 'generated_solution': 'The average length is simply the sum of the lengths of the two strings divided by 2.\\n<llm-code>\\nsum_length = 1.5 + 4.5\\navg_length = sum_length / 2\\navg_length\\n</llm-code>\\n<llm-code-output>\\n3.0\\n</llm-code-output>\\nSo the average length is \\\\\\\\boxed{3}.',\n",
       " 'question_ja': '1つの弦の長さは1.5インチで、もう1つの弦の長さは4.5インチです。これらの2つの弦の平均長さ、インチの平均長はどれくらいですか？',\n",
       " 'generated_solution_ja': '平均長は、2つの文字列の長さを2で割った単純な長さです。<llm-code>\\nsum_length = 1.5 + 4.5\\navg_length = sum_length / 2\\navg_length\\n</llm-code><llm-code-output>\\n3.0\\n</llm-code-output>\\nしたがって、平均長は\\\\\\\\ boxed {3}です。',\n",
       " 'answer': '#解説: 2つの弦の長さの平均を求めるには、それらの長さを加算して、2で割る必要があります。この場合、1.5インチと4.5インチの2つの弦があります。\\n\\n#Python:\\n\\n#弦の長さ\\na = 1.5\\nb = 4.5\\n\\n#平均長計算\\naverage_length = (a + b) / 2\\n\\n#結果の出力\\nprint(average_length)'}"
      ]
     },
     "execution_count": 104,
     "metadata": {},
     "output_type": "execute_result"
    }
   ],
   "source": [
    "record"
   ]
  },
  {
   "cell_type": "code",
   "execution_count": null,
   "metadata": {},
   "outputs": [],
   "source": []
  }
 ],
 "metadata": {
  "kernelspec": {
   "display_name": "llmeval",
   "language": "python",
   "name": "python3"
  },
  "language_info": {
   "codemirror_mode": {
    "name": "ipython",
    "version": 3
   },
   "file_extension": ".py",
   "mimetype": "text/x-python",
   "name": "python",
   "nbconvert_exporter": "python",
   "pygments_lexer": "ipython3",
   "version": "3.11.8"
  }
 },
 "nbformat": 4,
 "nbformat_minor": 2
}
